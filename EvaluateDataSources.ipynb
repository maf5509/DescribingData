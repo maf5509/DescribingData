{
 "cells": [
  {
   "cell_type": "markdown",
   "metadata": {
    "collapsed": true
   },
   "source": [
    "# Evaluating Data Sources\n",
    "\n",
    "In each of the scenarios, find possible shortcomings of the theoretical or actual data sources to answer the given question. What could be done to either adjust the analysis or reframe the question so that you can answer it accurately?\n",
    "\n",
    "#### Data Source:\n",
    "Amsterdam availability data scraped from AirBnB on December 24th. Question: What are the popular neighborhoods in Amsterdam?\n",
    "\n",
    "#### Ans:\n",
    "The results would be skewed towards users of AirBnB, who may be disproportionately younger, say, or be more likely to look for a certain kind of property in a certain price range. It is also not clear whether the question refers to he popularity of neighborhoods as vacation destinations,or  residential, for nightlife or a combination thereof. A better approach would be to look at data from other sites as well, a and offline methods of sourcing accommodation, and to clarify what is meant here by a 'popular' neighborhood.\n",
    "\n",
    "#### Data Source: \n",
    "Mental health services use on September 12, 2001 in San Francisco, CA and New York City, NY. Question: How do patterns of mental health service use vary between cities?\n",
    "\n",
    "#### Ans:\n",
    "\n",
    "People's use of mental health services in NYC is likely to be abnormal due to the catastrophic event that had happened the previous day. This would not give a representative picture of the general variation between the cities. This should be tested on a numer of dates, ideally not immediately following a major event. \n",
    "\n",
    "#### Data Source: \n",
    "Armenian Pub Survey. Question: What are the most common reasons Armenians visit local pubs?\n",
    "\n",
    "#### Ans:\n",
    "Given that the average household income is probabably not very high in Armenia, and the internet penetration may or may not be that high (estimates found range from 50% to 62% vs. 76% - 89% in the U.S.), the respondents of this online survey could be disproportionately drawn from the higher income earners in Armenia, and therefore not representative of Armenians in general."
   ]
  }
 ],
 "metadata": {
  "kernelspec": {
   "display_name": "Python 3",
   "language": "python",
   "name": "python3"
  },
  "language_info": {
   "codemirror_mode": {
    "name": "ipython",
    "version": 3
   },
   "file_extension": ".py",
   "mimetype": "text/x-python",
   "name": "python",
   "nbconvert_exporter": "python",
   "pygments_lexer": "ipython3",
   "version": "3.6.2"
  }
 },
 "nbformat": 4,
 "nbformat_minor": 2
}
